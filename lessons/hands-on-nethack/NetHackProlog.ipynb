{
 "cells": [
  {
   "cell_type": "markdown",
   "metadata": {},
   "source": [
    "# Hands-on Session with Prolog\n",
    "## Artificial Intelligence Fundamentals 2023/24\n",
    "Elia Piccoli (elia.piccoli@phd.unipi.it)"
   ]
  },
  {
   "cell_type": "markdown",
   "metadata": {},
   "source": [
    "---"
   ]
  },
  {
   "cell_type": "markdown",
   "metadata": {},
   "source": []
  },
  {
   "cell_type": "markdown",
   "metadata": {},
   "source": [
    "We can reuse the virtual environment created in the previous session.\n",
    "\n",
    "To recall, the packages needed are: _nle_, _minihack_, _matplotlib_, _notebook_"
   ]
  },
  {
   "cell_type": "markdown",
   "metadata": {},
   "source": [
    "For today lesson we will use _pyswip_ - https://github.com/yuce/pyswip - that is a Python - SWI-Prolog bridge enabling to query SWI-Prolog in your Python programs."
   ]
  },
  {
   "cell_type": "markdown",
   "metadata": {},
   "source": [
    "### >> **Install** <<\n",
    "Please read carefully the install instructions!\n",
    "\n",
    "You can find them here: https://github.com/yuce/pyswip#install"
   ]
  },
  {
   "cell_type": "markdown",
   "metadata": {},
   "source": [
    "---"
   ]
  },
  {
   "cell_type": "markdown",
   "metadata": {},
   "source": [
    "## Prolog and some examples"
   ]
  },
  {
   "cell_type": "markdown",
   "metadata": {},
   "source": [
    "Import the Prolog class from the library that is used to handle our knowledge base."
   ]
  },
  {
   "cell_type": "code",
   "execution_count": null,
   "metadata": {},
   "outputs": [],
   "source": [
    "from pyswip import Prolog"
   ]
  },
  {
   "cell_type": "markdown",
   "metadata": {},
   "source": [
    "Add axioms to the KB.\n",
    "\n",
    "_assertz_: adds an axiom at the end\n",
    "\n",
    "_asserta_: adds an axiom at the beginning\n",
    "\n",
    "Keep in mind that order is important!"
   ]
  },
  {
   "cell_type": "code",
   "execution_count": null,
   "metadata": {},
   "outputs": [],
   "source": [
    "KB = Prolog()\n",
    "KB.assertz(\"father(michael,john)\")\n",
    "KB.assertz(\"father(michael,gina)\")\n",
    "KB.asserta(\"father(giuseppe,mario)\")"
   ]
  },
  {
   "cell_type": "markdown",
   "metadata": {},
   "source": [
    "Query the KB to obtain answers based on the axioms."
   ]
  },
  {
   "cell_type": "code",
   "execution_count": null,
   "metadata": {},
   "outputs": [],
   "source": [
    "list(KB.query(\"father(michael,X)\"))"
   ]
  },
  {
   "cell_type": "code",
   "execution_count": null,
   "metadata": {},
   "outputs": [],
   "source": [
    "list(KB.query(\"father(giuseppe,Y)\"))"
   ]
  },
  {
   "cell_type": "code",
   "execution_count": null,
   "metadata": {},
   "outputs": [],
   "source": [
    "list(KB.query(\"father(giuseppe,antonio)\")), list(KB.query(\"father(giuseppe,mario)\"))"
   ]
  },
  {
   "cell_type": "code",
   "execution_count": null,
   "metadata": {},
   "outputs": [],
   "source": [
    "for soln in KB.query(\"father(X,Y)\"):\n",
    "    print(soln[\"X\"], \"is the father of\", soln[\"Y\"])"
   ]
  },
  {
   "cell_type": "markdown",
   "metadata": {},
   "source": [
    "With _retractall()_ is possible to remove all axioms that correspond to the given definition.\n",
    "\n",
    "`_` means all possible values. "
   ]
  },
  {
   "cell_type": "code",
   "execution_count": null,
   "metadata": {},
   "outputs": [],
   "source": [
    "KB.retractall(\"father(_,_)\")"
   ]
  },
  {
   "cell_type": "markdown",
   "metadata": {},
   "source": [
    "Now the KB is empty so the query wont retrieve any solution."
   ]
  },
  {
   "cell_type": "code",
   "execution_count": null,
   "metadata": {},
   "outputs": [],
   "source": [
    "list(KB.query(\"father(michael,X)\"))"
   ]
  },
  {
   "cell_type": "markdown",
   "metadata": {},
   "source": [
    "We must assert again all the axioms."
   ]
  },
  {
   "cell_type": "code",
   "execution_count": null,
   "metadata": {},
   "outputs": [],
   "source": [
    "KB.assertz(\"father(michael,john)\")\n",
    "KB.assertz(\"father(michael,gina)\")\n",
    "KB.asserta(\"father(giuseppe,mario)\")"
   ]
  },
  {
   "cell_type": "markdown",
   "metadata": {},
   "source": [
    "In this case we retract only the axioms where the father is `giuseppe`."
   ]
  },
  {
   "cell_type": "code",
   "execution_count": null,
   "metadata": {},
   "outputs": [],
   "source": [
    "KB.retractall(\"father(giuseppe,_)\")"
   ]
  },
  {
   "cell_type": "code",
   "execution_count": null,
   "metadata": {},
   "outputs": [],
   "source": [
    "for soln in KB.query(\"father(X,Y)\"):\n",
    "    print(soln[\"X\"], \"is the father of\", soln[\"Y\"])"
   ]
  },
  {
   "cell_type": "code",
   "execution_count": null,
   "metadata": {},
   "outputs": [],
   "source": [
    "KB.retractall(\"father(_,_)\")"
   ]
  },
  {
   "cell_type": "markdown",
   "metadata": {},
   "source": [
    "---"
   ]
  },
  {
   "cell_type": "markdown",
   "metadata": {},
   "source": [
    "We can also write the prolog rules in a separate file and load it."
   ]
  },
  {
   "cell_type": "code",
   "execution_count": null,
   "metadata": {},
   "outputs": [],
   "source": [
    "KB = Prolog()\n",
    "KB.consult(\"simple_rules.pl\")"
   ]
  },
  {
   "cell_type": "markdown",
   "metadata": {},
   "source": [
    "It is possible to assert new axioms and add them to the KB."
   ]
  },
  {
   "cell_type": "code",
   "execution_count": null,
   "metadata": {},
   "outputs": [],
   "source": [
    "KB.assertz(\"father(michael,john)\")\n",
    "KB.assertz(\"father(michael,gina)\")"
   ]
  },
  {
   "cell_type": "code",
   "execution_count": null,
   "metadata": {},
   "outputs": [],
   "source": [
    "for soln in KB.query(\"father(X,Y)\"):\n",
    "    print(soln[\"X\"], \"is the father of\", soln[\"Y\"])"
   ]
  },
  {
   "cell_type": "markdown",
   "metadata": {},
   "source": [
    "We can query the KB and obtain the result of different predicates."
   ]
  },
  {
   "cell_type": "code",
   "execution_count": null,
   "metadata": {},
   "outputs": [],
   "source": [
    "print(list(KB.query(\"is_father_of_two(X)\")))"
   ]
  },
  {
   "cell_type": "code",
   "execution_count": null,
   "metadata": {},
   "outputs": [],
   "source": [
    "print(list(KB.query(\"brothers(X, Y)\")))"
   ]
  },
  {
   "cell_type": "code",
   "execution_count": null,
   "metadata": {},
   "outputs": [],
   "source": [
    "KB.retractall(\"father(_,_)\")"
   ]
  },
  {
   "cell_type": "markdown",
   "metadata": {},
   "source": [
    "---"
   ]
  },
  {
   "cell_type": "markdown",
   "metadata": {},
   "source": [
    "## Today Hands-on"
   ]
  },
  {
   "cell_type": "markdown",
   "metadata": {},
   "source": [
    "We want to create the set of rules to perform different actions in order to achieve the final goal."
   ]
  },
  {
   "cell_type": "code",
   "execution_count": null,
   "metadata": {},
   "outputs": [],
   "source": [
    "import gym\n",
    "import time\n",
    "import matplotlib.pyplot as plt\n",
    "from pyswip import Prolog\n",
    "from utils import create_level, define_reward, process_state, perform_action, show_match"
   ]
  },
  {
   "cell_type": "markdown",
   "metadata": {},
   "source": [
    "Define some parameters to customize the experiments."
   ]
  },
  {
   "cell_type": "code",
   "execution_count": null,
   "metadata": {},
   "outputs": [],
   "source": [
    "H = 10\n",
    "W = 10\n",
    "NUM_EPISODES = 15\n",
    "MAX_STEPS = 30\n",
    "MONSTER = \"kobold\"\n",
    "WEAPON = \"tsurugi\"\n",
    "PATH = \"kb.pl\""
   ]
  },
  {
   "cell_type": "markdown",
   "metadata": {},
   "source": [
    "Create the `des_file` description of the environment and define the reward function."
   ]
  },
  {
   "cell_type": "code",
   "execution_count": null,
   "metadata": {},
   "outputs": [],
   "source": [
    "des_file = create_level(width=W, height=H, monster=MONSTER, weapon=WEAPON)\n",
    "reward_manager = define_reward()"
   ]
  },
  {
   "cell_type": "markdown",
   "metadata": {},
   "source": [
    "Create the environment."
   ]
  },
  {
   "cell_type": "code",
   "execution_count": null,
   "metadata": {},
   "outputs": [],
   "source": [
    "env = gym.make(\n",
    "    \"MiniHack-Skill-Custom-v0\",\n",
    "    character=\"sam-hum-neu-mal\",\n",
    "    observation_keys=(\"screen_descriptions\", \"inv_strs\", \"blstats\", \"message\", \"pixel\"),\n",
    "    des_file=des_file,\n",
    "    reward_manager=reward_manager,\n",
    ")"
   ]
  },
  {
   "cell_type": "code",
   "execution_count": null,
   "metadata": {},
   "outputs": [],
   "source": [
    "obs = env.reset()\n",
    "env.render()"
   ]
  },
  {
   "cell_type": "code",
   "execution_count": null,
   "metadata": {},
   "outputs": [],
   "source": [
    "plt.imshow(obs[\"pixel\"][115:275, 480:750])"
   ]
  },
  {
   "cell_type": "markdown",
   "metadata": {},
   "source": [
    "Initialize the knowledge base."
   ]
  },
  {
   "cell_type": "code",
   "execution_count": null,
   "metadata": {},
   "outputs": [],
   "source": [
    "KB = Prolog()\n",
    "KB.consult(PATH)"
   ]
  },
  {
   "cell_type": "markdown",
   "metadata": {},
   "source": [
    "#### Main code\n",
    "- Perform `NUM_EPISODES` experiences in the environment.\n",
    "- Use `Prolog` to define the axioms and choose the action to perform.\n",
    "- The main goal is to _reach and eat_ the `apple`."
   ]
  },
  {
   "cell_type": "code",
   "execution_count": null,
   "metadata": {},
   "outputs": [],
   "source": [
    "rewards = []\n",
    "for episode in range(NUM_EPISODES):\n",
    "    # count the number of steps of the current episode\n",
    "    steps = 0\n",
    "    # store the cumulative reward\n",
    "    reward = 0.0\n",
    "    # collect obs['pixel'] to visualize\n",
    "    ep_states = []\n",
    "\n",
    "    obs = env.reset()\n",
    "    ep_states.append(obs[\"pixel\"])\n",
    "    done = False\n",
    "\n",
    "    # Main loop\n",
    "    while not done and steps < MAX_STEPS:\n",
    "        # Get the observation from the env and assert the facts in the kb\n",
    "        process_state(obs, KB, MONSTER, WEAPON)\n",
    "\n",
    "        # Query Prolog\n",
    "        # Run the inference and get the action to perform\n",
    "        # Get the first answer from Prolog -> the top-priority action\n",
    "        try:\n",
    "            action = list(KB.query(\"action(X)\"))[0]\n",
    "            action = action[\"X\"]\n",
    "            # print(f'>> Current action from Prolog: {action}')\n",
    "        except Exception as e:\n",
    "            action = None\n",
    "\n",
    "        # Perform the action in the environment\n",
    "        if action:\n",
    "            obs, reward, done, info = perform_action(action, env)\n",
    "            ep_states.append(obs[\"pixel\"])\n",
    "            # env.render()\n",
    "        else:\n",
    "            print(\n",
    "                \"ERROR: impossible to perform any action. Please check assertions and definitions in KB.\"\n",
    "            )\n",
    "            break\n",
    "\n",
    "        steps += 1\n",
    "\n",
    "    # Display game with interface\n",
    "    show_match(ep_states)\n",
    "    # Print information about the ended episode\n",
    "    print(f\"Episode {episode} - {steps} steps\")\n",
    "    print(f'End status: {info[\"end_status\"].name}')\n",
    "    print(f\"Final reward: {reward}\")\n",
    "    time.sleep(0.75)\n",
    "\n",
    "    rewards.append(reward)\n",
    "\n",
    "    # reset the environment and retract axioms that may cause errors\n",
    "    obs = env.reset()\n",
    "    KB.retractall(\"stepping_on(agent,_,_)\")\n",
    "\n",
    "\n",
    "print(f\"After {NUM_EPISODES} episodes, mean return is {sum(rewards)/NUM_EPISODES}\")\n",
    "print(\"The rewards of the episodes are:\", rewards)"
   ]
  },
  {
   "cell_type": "code",
   "execution_count": null,
   "metadata": {},
   "outputs": [],
   "source": []
  }
 ],
 "metadata": {
  "kernelspec": {
   "display_name": "nle",
   "language": "python",
   "name": "python3"
  },
  "language_info": {
   "codemirror_mode": {
    "name": "ipython",
    "version": 3
   },
   "file_extension": ".py",
   "mimetype": "text/x-python",
   "name": "python",
   "nbconvert_exporter": "python",
   "pygments_lexer": "ipython3",
   "version": "3.10.13"
  }
 },
 "nbformat": 4,
 "nbformat_minor": 2
}
