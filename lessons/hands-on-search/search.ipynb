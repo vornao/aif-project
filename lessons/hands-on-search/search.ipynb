{
 "cells": [
  {
   "cell_type": "code",
   "execution_count": null,
   "metadata": {},
   "outputs": [],
   "source": [
    "import gym\n",
    "import minihack\n",
    "import time\n",
    "import numpy as np\n",
    "import matplotlib.pyplot as plt\n",
    "import IPython.display as display\n",
    "from tqdm import tqdm\n",
    "import random\n",
    "import math\n",
    "\n",
    "# set the seed for reproducibility\n",
    "SEED = 42\n",
    "np.random.seed(SEED)\n",
    "\n",
    "from utils import *\n",
    "from gen import test, random_search, true_random_search, true_random_nsteps"
   ]
  },
  {
   "cell_type": "code",
   "execution_count": null,
   "metadata": {},
   "outputs": [],
   "source": [
    "env = gym.make(\n",
    "    \"MiniHack-Navigation-Custom-v0\",\n",
    "    observation_keys=(\"chars\", \"pixel\"),\n",
    "    des_file=\"complex_maze.des\",\n",
    "    max_episode_steps=10000,\n",
    ")\n",
    "state = env.reset()\n",
    "env.render()"
   ]
  },
  {
   "cell_type": "code",
   "execution_count": null,
   "metadata": {},
   "outputs": [],
   "source": [
    "plt.imshow(state[\"pixel\"])"
   ]
  },
  {
   "cell_type": "code",
   "execution_count": null,
   "metadata": {},
   "outputs": [],
   "source": [
    "a = (0, -1)\n",
    "b = (0, 1)\n",
    "c = (1, 0)\n",
    "d = (-1, 0)\n",
    "\n",
    "ACTIONS = [a, b, c, d]\n",
    "\n",
    "\n",
    "env = gym.make(\n",
    "    \"MiniHack-Navigation-Custom-v0\",\n",
    "    observation_keys=(\"chars\", \"pixel\"),\n",
    "    des_file=\"complex_maze.des\",\n",
    "    max_episode_steps=10000,\n",
    ")\n",
    "\n",
    "state = env.reset()\n",
    "game_map = state[\"chars\"]\n",
    "game = state[\"pixel\"]\n",
    "start = get_player_location(game_map)\n",
    "target = get_target_location(game_map)\n",
    "\n",
    "\n",
    "def modify_action(t1, t2):\n",
    "    \"\"\"Sum two tuples\"\"\"\n",
    "    return (t1[0] + t2[0], t1[1] + t2[1])\n",
    "\n",
    "\n",
    "def is_crossoverable(action1, action2):\n",
    "    # if action 1 and action 2 are oblique, return False\n",
    "    dx = abs(action1[0] - action2[0])\n",
    "    dy = abs(action1[1] - action2[1])\n",
    "    # return false if the two components are changing together and > 1\n",
    "    if (dx > 0 and dy > 0) and (dx > 1 or dy > 1):\n",
    "        return False\n",
    "    else:\n",
    "        # print(f'actions: ,{action1, action2}')\n",
    "        return True\n",
    "\n",
    "\n",
    "def crossover_path(path1, path2):\n",
    "    \"\"\"Crossover two paths\"\"\"\n",
    "    # randomly select a crossover point\n",
    "    i = np.random.randint(1, min(len(path1), len(path2)))\n",
    "    while not is_crossoverable(path1[i - 1], path2[i]):\n",
    "        i = np.random.randint(1, min(len(path1), len(path2)))\n",
    "\n",
    "    # return the two paths joined at the crossover point\n",
    "    # TODO:  implement controls on move validity\n",
    "\n",
    "    # until the path is valid, merge the 2 path\n",
    "    \"\"\"print(f'point of crossover: {i}')\n",
    "    print(f'path1: {path1}')\n",
    "    print(f'path2: {path2}')\n",
    "    print(f'lenp1: {len(path1[:i])}, path1[:i]: {path1[:i]}')\n",
    "    print(f'lenp2: {len(path2[i:])}, path2[i:]: {path2[i:]}')\"\"\"\n",
    "\n",
    "    pathtry = path1[:i] + path2[i:]\n",
    "\n",
    "    # concatenete path1 and path2\n",
    "\n",
    "    for idx in range(1, len(pathtry)):\n",
    "        if is_wall(game_map[pathtry[idx]]):\n",
    "            # truncate here pathtry[:idx]\n",
    "            return path1[:i] + path2[i : idx - 1]\n",
    "    return pathtry\n",
    "\n",
    "\n",
    "def crossover(actions1, actions2):\n",
    "    \"\"\"Crossover two paths\"\"\"\n",
    "    # randomly select a crossover point\n",
    "    i = np.random.randint(1, min(len(actions1), len(actions2)))\n",
    "    # return the two paths joined at the crossover point\n",
    "    return actions1[:i] + actions2[i:]\n",
    "\n",
    "\n",
    "def mutate_path(path, mutation_rate=0.05):\n",
    "    \"\"\"Mutate a path\"\"\"\n",
    "    # randomly select n postions to mutate\n",
    "    print(f\"before mutation {path}\")\n",
    "    actions = actions_from_path(start, path[1:])\n",
    "    idxs = random.sample(list(range(len(actions)))[1:], k=math.floor(len(actions) / 10))\n",
    "    print(\"idxs\", idxs)\n",
    "    # randomly select new actions for each position and replace\n",
    "    # TODO?  implement controls on move validity\n",
    "    for idx in idxs:\n",
    "        print(f\"valid moves:\", get_valid_actions(game_map, path[idx]))\n",
    "        print(game_map[path[idx]])\n",
    "        action = random.choice(get_valid_actions(game_map, path[idx]))\n",
    "        actions[idx] = action\n",
    "    path = path_from_actions(path[0], actions)\n",
    "    print(f\"after mutation {path}\")\n",
    "    return path\n",
    "\n",
    "\n",
    "def mutate(actions, mutation_rate=0.05):\n",
    "    \"\"\"Mutate a path\"\"\"\n",
    "    # randomly select n postions to mutate\n",
    "    idxs = random.sample(list(range(len(actions))), k=math.floor(len(actions) / 10))\n",
    "    # randomly select new actions for each position and replace\n",
    "    for idx in idxs:\n",
    "        actions[idx] = random.choice([0, 1, 2, 3])\n",
    "    return actions"
   ]
  },
  {
   "cell_type": "code",
   "execution_count": null,
   "metadata": {},
   "outputs": [],
   "source": [
    "def pathlen(path, target):\n",
    "    # Give the first occurernce of the target in the path\n",
    "    for idx, pos in enumerate(path):\n",
    "        if pos == target:\n",
    "            return idx + 1\n",
    "    return -1"
   ]
  },
  {
   "cell_type": "code",
   "execution_count": null,
   "metadata": {},
   "outputs": [],
   "source": [
    "abs(start[0] - target[0]) + abs(start[1] - target[1])"
   ]
  },
  {
   "cell_type": "code",
   "execution_count": null,
   "metadata": {},
   "outputs": [],
   "source": [
    "MAX_GENERATIONS = 1000\n",
    "MAX_INDIVIDUALS = 100\n",
    "\n",
    "best_scores = []\n",
    "best_paths = []\n",
    "zero_fitness = []\n",
    "\n",
    "print(f\"> start: {start}, target: {target}\")\n",
    "\n",
    "fitness_function = lambda path: abs(path[-1][0] - target[0]) + abs(\n",
    "    path[-1][1] - target[1]\n",
    ")\n",
    "\n",
    "# create a list of individuals, starting with random moves (illegal actions filtered out)\n",
    "print(\"> Creating initial population...\")\n",
    "individuals = [\n",
    "    true_random_nsteps(game_map, start, target) for _ in range(MAX_INDIVIDUALS)\n",
    "]\n",
    "best_fitness = np.inf\n",
    "\n",
    "print(\"> Evolving...\")\n",
    "for generation in tqdm(range(MAX_GENERATIONS)):\n",
    "    generation_scores = []\n",
    "\n",
    "    # fitnesses = [fitness_function(individual, checkpoints, generation) for individual in individuals]\n",
    "    fitnesses = [fitness_function(individual) for individual in individuals]\n",
    "\n",
    "    ind_actions = [actions_from_path(start, ind) for ind in individuals]\n",
    "    generation_scores.append(min(fitnesses))\n",
    "\n",
    "    # this is a list of tuples (individual, fitness). individual is a list of moves\n",
    "    population = list(zip(individuals, fitnesses))\n",
    "    actions = list(zip(ind_actions, fitnesses))\n",
    "\n",
    "    # sorting the population by best fitness (lower is better)\n",
    "    population.sort(key=lambda x: x[1])\n",
    "    actions.sort(key=lambda x: x[1])\n",
    "    # sort ind_actions with respect to population\n",
    "\n",
    "    # print(f\"best score: {population[0][1]:.2f}\")\n",
    "\n",
    "    # take 2 best individuals -> maybe can be replaced with probability distribution based on fitness\n",
    "    # also roulette wheel selection.\n",
    "\n",
    "    (\n",
    "        child1,\n",
    "        child2,\n",
    "    ) = (\n",
    "        actions[0][0],\n",
    "        actions[1][0],\n",
    "    )\n",
    "\n",
    "    offspring = [crossover(child1, child2) for _ in range(MAX_INDIVIDUALS)]\n",
    "    offspring = [mutate(child) for child in offspring]\n",
    "    ind_actions = offspring\n",
    "    individuals = [path_from_actions(game_map, start, child) for child in offspring]\n",
    "\n",
    "    best_fitness = population[0][1]\n",
    "    best_scores.append(population[0][1])\n",
    "    best_paths.append(population[0][0])\n",
    "    # print(f\"Generation {generation}: best score {best_fitness:.2f}\")\n",
    "\n",
    "    if best_fitness == 0:\n",
    "        zero_fitness.append(population[0][0])\n",
    "\n",
    "# print best score and best path\n",
    "best_idx = np.argmin(best_scores)\n",
    "print(f\"Best score: {best_scores[best_idx]:.2f}\")\n",
    "print(f\"Best path: {best_paths[best_idx]}\")\n",
    "print(f\"generation of best path: {best_idx}\")"
   ]
  },
  {
   "cell_type": "code",
   "execution_count": null,
   "metadata": {},
   "outputs": [],
   "source": [
    "print(f\"len{len(best_paths)}, path: {best_paths}\")\n",
    "print(f\"len best path: {len(best_paths[best_idx])}, best path: {best_paths[best_idx]}\")\n",
    "path = best_paths[best_idx]\n",
    "actions = actions_from_path(start, path)\n",
    "print(f\"len{len(actions)}, actions: {actions}\")"
   ]
  },
  {
   "cell_type": "code",
   "execution_count": null,
   "metadata": {},
   "outputs": [],
   "source": [
    "start"
   ]
  },
  {
   "cell_type": "code",
   "execution_count": null,
   "metadata": {},
   "outputs": [],
   "source": [
    "for path in best_paths:\n",
    "    for x, y in path:\n",
    "        if is_wall(game_map[x, y]):\n",
    "            raise ValueError(\"Path is invalid because it goes through a wall\")"
   ]
  },
  {
   "cell_type": "code",
   "execution_count": null,
   "metadata": {},
   "outputs": [],
   "source": [
    "env.reset()\n",
    "plt.rcParams[\"figure.figsize\"] = [17, 7]\n",
    "\n",
    "image = plt.imshow(game[:, 300:975])\n",
    "# for generation, path in enumerate(best_paths):\n",
    "# plt.title(f\"Generation {generation}, fitness: {best_scores[generation]:.2f}, last move: {path[-1]}\")\n",
    "# start = best_paths[0]\n",
    "# path = best_paths[-1]\n",
    "actions = []\n",
    "actions = actions_from_path(start, best_paths[best_idx])\n",
    "\n",
    "for i, action in enumerate(actions):\n",
    "    try:\n",
    "        s, _, _, _ = env.step(action)\n",
    "        display.display(plt.gcf())\n",
    "        display.clear_output(wait=True)\n",
    "        plt.title(\n",
    "            f\"Generation {generation}, fitness: {best_scores[generation]:.2f}, current position: {best_paths[best_idx][i]}, action: {action}\"\n",
    "        )\n",
    "        image.set_data(s[\"pixel\"][:, 300:975])\n",
    "        # time.sleep(0.1)\n",
    "        if best_paths[best_idx][i] == target:\n",
    "            print(\"YOU WON! <3\")\n",
    "            break\n",
    "    except RuntimeError:\n",
    "        print(\"YOU WON! <3\")"
   ]
  },
  {
   "cell_type": "markdown",
   "metadata": {},
   "source": [
    "### Plot ot best fitness over generations (genetic vs random search)"
   ]
  },
  {
   "cell_type": "code",
   "execution_count": null,
   "metadata": {},
   "outputs": [],
   "source": [
    "\"\"\"# We do a first comparison between the random algorithm and the genetic algorithm\n",
    "MAX_GENERATIONS = 1000\n",
    "MAX_INDIVIDUALS = 100\n",
    "\n",
    "best_scores_random =[]\n",
    "best_paths_random = []\n",
    "\n",
    "print(f\"> start: {start}, target: {target}\")\n",
    "\n",
    "fitness_function = lambda path: abs(path[-1][0] - target[0]) + abs(path[-1][1] - target[1])\n",
    "\n",
    "# create a list of individuals, starting with random moves (illegal actions filtered out)\n",
    "print(\"> Creating initial population...\")\n",
    "individuals_random = [true_random_nsteps(game_map, start, target) for _ in range(MAX_INDIVIDUALS)]\n",
    "best_fitness_random = np.inf\n",
    "\n",
    "print(\"> Evolving...\")\n",
    "for generation in tqdm(range(MAX_GENERATIONS)):\n",
    "    \n",
    "    generation_scores_random = []\n",
    "    \n",
    "    fitnesses_random = [fitness_function(individual) for individual in individuals_random]\n",
    "    ind_actions_random = [actions_from_path(start, ind) for ind in individuals_random]\n",
    "    generation_scores_random.append(min(fitnesses_random))\n",
    "\n",
    "    # this is a list of tuples (individual, fitness). individual is a list of moves\n",
    "    population_random = list(zip(individuals_random, fitnesses_random))\n",
    "    actions_random =  list(zip(ind_actions_random, fitnesses_random))\n",
    "\n",
    "    # sorting the population by best fitness (lower is better)\n",
    "    population_random.sort(key=lambda x: x[1])\n",
    "    actions_random.sort(key=lambda x:x[1])\n",
    "    # sort ind_actions with respect to population\n",
    "    \n",
    "\n",
    "    individuals_random = [true_random_nsteps(game_map, start, target) for _ in range(MAX_INDIVIDUALS)]\n",
    "\n",
    "    best_fitness_random = population_random[0][1]\n",
    "    best_scores_random.append(population_random[0][1])    \n",
    "    best_paths_random.append(population_random[0][0])\n",
    "    #print(f\"Generation {generation}: best score {best_fitness:.2f}\")\n",
    "\n",
    "    if best_fitness_random == 0:\n",
    "        break\n",
    "    \n",
    "# print best score and best path\n",
    "best_idx_random = np.argmin(best_scores_random)\n",
    "print(f\"Best score: {best_scores_random[best_idx_random]:.2f}\")\n",
    "print(f\"Best path: {best_paths_random[best_idx_random]}\")\n",
    "print(f\"generation of best path: {best_idx_random}\")\"\"\""
   ]
  },
  {
   "cell_type": "code",
   "execution_count": null,
   "metadata": {},
   "outputs": [],
   "source": [
    "# Plot for each generation the best fitness\n",
    "plt.plot(best_scores)\n",
    "# Add title and axis names\n",
    "plt.title(\"Fitness over generations for the gentic algorithm\")\n",
    "plt.plot(best_scores_random)\n",
    "plt.title(\"Fitness over generations for the random algorithm\")"
   ]
  },
  {
   "cell_type": "markdown",
   "metadata": {},
   "source": [
    "### Number of moves to reach the target"
   ]
  },
  {
   "cell_type": "code",
   "execution_count": null,
   "metadata": {},
   "outputs": [],
   "source": [
    "len(best_paths[-1]), len(best_paths_random[-1])"
   ]
  },
  {
   "cell_type": "code",
   "execution_count": null,
   "metadata": {},
   "outputs": [],
   "source": [
    "print(best_paths[-1])\n",
    "print(best_paths_random[-1])"
   ]
  },
  {
   "cell_type": "code",
   "execution_count": null,
   "metadata": {},
   "outputs": [],
   "source": [
    "pathlen(best_paths[-1], target)"
   ]
  },
  {
   "cell_type": "code",
   "execution_count": null,
   "metadata": {},
   "outputs": [],
   "source": [
    "print(target)"
   ]
  },
  {
   "cell_type": "code",
   "execution_count": null,
   "metadata": {},
   "outputs": [],
   "source": [
    "len(zero_fitness)"
   ]
  },
  {
   "cell_type": "markdown",
   "metadata": {},
   "source": [
    "### "
   ]
  },
  {
   "cell_type": "code",
   "execution_count": null,
   "metadata": {},
   "outputs": [],
   "source": [
    "for element in zero_fitness:\n",
    "    print(pathlen(element, target))"
   ]
  },
  {
   "cell_type": "code",
   "execution_count": null,
   "metadata": {},
   "outputs": [],
   "source": [
    "min([pathlen(element, target) for element in zero_fitness])"
   ]
  },
  {
   "cell_type": "code",
   "execution_count": null,
   "metadata": {},
   "outputs": [],
   "source": []
  }
 ],
 "metadata": {
  "kernelspec": {
   "display_name": ".venv",
   "language": "python",
   "name": "python3"
  },
  "language_info": {
   "codemirror_mode": {
    "name": "ipython",
    "version": 3
   },
   "file_extension": ".py",
   "mimetype": "text/x-python",
   "name": "python",
   "nbconvert_exporter": "python",
   "pygments_lexer": "ipython3",
   "version": "3.10.11"
  }
 },
 "nbformat": 4,
 "nbformat_minor": 2
}
