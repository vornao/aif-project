{
 "cells": [
  {
   "cell_type": "markdown",
   "id": "137dc8d2-2847-4ec3-bb38-27544fc08726",
   "metadata": {},
   "source": [
    "# Hands-on Search Algorithms\n",
    "## Artificial Intelligence Fundamentals 2023/24\n",
    "Elia Piccoli (elia.piccoli@phd.unipi.it)"
   ]
  },
  {
   "cell_type": "markdown",
   "id": "247654f3-2821-43a3-850e-3ad51365ec82",
   "metadata": {},
   "source": [
    "---"
   ]
  },
  {
   "cell_type": "markdown",
   "id": "ecff0fdb-3fc2-4174-8b8f-52cbecfe5989",
   "metadata": {},
   "source": [
    "## Creating the virtual environment and installing required packages"
   ]
  },
  {
   "cell_type": "markdown",
   "id": "aedd1172-87ef-47e6-b335-eefb2964262e",
   "metadata": {},
   "source": [
    "Create the virtual environment and activate it.\n",
    "\n",
    "You can use _venv_, _virtualenv_ or _conda_ whichever you prefer."
   ]
  },
  {
   "cell_type": "code",
   "execution_count": null,
   "id": "88a184f0-9076-4515-a74b-8569b367487c",
   "metadata": {},
   "outputs": [],
   "source": [
    "# python3 -m venv minihack\n",
    "# source minihack/bin/activate"
   ]
  },
  {
   "cell_type": "markdown",
   "id": "e788fea6-c649-4eb2-b5a2-4d5567dcb95e",
   "metadata": {},
   "source": [
    "Install _nle_ (https://github.com/facebookresearch/nle)"
   ]
  },
  {
   "cell_type": "code",
   "execution_count": null,
   "id": "5e308ebe-7dc9-4645-89b4-1ccc0d9a842a",
   "metadata": {},
   "outputs": [],
   "source": [
    "# pip install nle"
   ]
  },
  {
   "cell_type": "markdown",
   "id": "5be5afec-267d-48a9-ac3f-292d0b6f14a7",
   "metadata": {},
   "source": [
    "Install _minihack_ (https://github.com/facebookresearch/minihack)"
   ]
  },
  {
   "cell_type": "code",
   "execution_count": null,
   "id": "7845e0a9-d170-4663-9b37-7a39a3eff949",
   "metadata": {},
   "outputs": [],
   "source": [
    "# pip install minihack"
   ]
  },
  {
   "cell_type": "markdown",
   "id": "e46e38ce-89e8-4090-874e-ef7da7af0b1a",
   "metadata": {},
   "source": [
    "Install other packages needed for this hands-on (_matplotlib_ for plots, _notebook_ for jupyter notebooks)"
   ]
  },
  {
   "cell_type": "code",
   "execution_count": null,
   "id": "bd01c0ff-68ae-4d83-a324-123e9945b2f1",
   "metadata": {},
   "outputs": [],
   "source": [
    "# pip install matplotlib notebook"
   ]
  },
  {
   "cell_type": "markdown",
   "id": "f6fff90b-faad-49d0-846b-fa1cbbd2bf91",
   "metadata": {},
   "source": [
    "Activate the jupyter server and access it by the localhost at the given port (usually 8888 or around that number)"
   ]
  },
  {
   "cell_type": "code",
   "execution_count": null,
   "id": "36923b3e-b025-4ed2-9ff7-92b180723d3b",
   "metadata": {},
   "outputs": [],
   "source": [
    "# jupyter notebook"
   ]
  },
  {
   "cell_type": "markdown",
   "id": "215f9a57-167b-4caf-beb3-ef821415a8a5",
   "metadata": {},
   "source": [
    "---"
   ]
  },
  {
   "cell_type": "markdown",
   "id": "9a7cdb39-34b1-4566-9945-1a040fc30a70",
   "metadata": {},
   "source": [
    "## Creating minihack environments and their features"
   ]
  },
  {
   "cell_type": "code",
   "execution_count": null,
   "id": "21134aca-4d78-4213-aedc-605cd5274aae",
   "metadata": {},
   "outputs": [],
   "source": [
    "import gym\n",
    "import minihack\n",
    "import numpy as np\n",
    "import matplotlib.pyplot as plt\n",
    "import IPython.display as display"
   ]
  },
  {
   "cell_type": "markdown",
   "id": "58ade4a9-4cbe-4943-99c1-c0e41f5fc064",
   "metadata": {},
   "source": [
    "Show list of all minihack environments"
   ]
  },
  {
   "cell_type": "code",
   "execution_count": null,
   "id": "f4bd0162-062d-4211-b165-bf9c8bcc4fe7",
   "metadata": {},
   "outputs": [],
   "source": [
    "!python -m minihack.scripts.env_list"
   ]
  },
  {
   "cell_type": "markdown",
   "id": "968c66ce-75b9-4328-b3ea-f142e590b886",
   "metadata": {},
   "source": [
    "Create and render the environment"
   ]
  },
  {
   "cell_type": "code",
   "execution_count": null,
   "id": "346f1bb4-313c-4395-80a3-9661be6a30c9",
   "metadata": {},
   "outputs": [],
   "source": [
    "# create the environment\n",
    "env = gym.make(\"MiniHack-ExploreMaze-Easy-Mapped-v0\")\n",
    "# reset it to initial state\n",
    "state = env.reset()\n",
    "# render the environment\n",
    "env.render()"
   ]
  },
  {
   "cell_type": "markdown",
   "id": "f22093ab-a1eb-43a3-9a1b-e5249d5e837e",
   "metadata": {},
   "source": [
    "Using the env instance is possible to print the available actions"
   ]
  },
  {
   "cell_type": "code",
   "execution_count": null,
   "id": "1f042817-4487-400e-a3f0-a3ad1046f7cc",
   "metadata": {},
   "outputs": [],
   "source": [
    "env.actions"
   ]
  },
  {
   "cell_type": "markdown",
   "id": "cecb3329-acca-4029-84ab-cf2e28bd12cf",
   "metadata": {},
   "source": [
    "Analyzing the state variable we can see all the different representations\n",
    "\n",
    "check: https://minihack.readthedocs.io/en/latest/getting-started/observation_spaces.html"
   ]
  },
  {
   "cell_type": "code",
   "execution_count": null,
   "id": "8c88f233-9086-441a-91dc-c0964e6493ca",
   "metadata": {},
   "outputs": [],
   "source": [
    "state"
   ]
  },
  {
   "cell_type": "markdown",
   "id": "49d950f0-ca14-4d67-a970-518f1a3739be",
   "metadata": {},
   "source": [
    "In our case we will consider only two representations:\n",
    "- _chars_: represents the map using a multi-dimensional array containing the ASCII encoding of the characters\n",
    "- _pixel_: stores the 3 channel informations to render visually the environment"
   ]
  },
  {
   "cell_type": "code",
   "execution_count": null,
   "id": "7bf31048-5d8f-4216-b6cf-2581ac11db3b",
   "metadata": {},
   "outputs": [],
   "source": [
    "env = gym.make(\n",
    "    \"MiniHack-ExploreMaze-Easy-Mapped-v0\", observation_keys=(\"chars\", \"pixel\")\n",
    ")\n",
    "state = env.reset()\n",
    "env.render()"
   ]
  },
  {
   "cell_type": "markdown",
   "id": "216a94c8-b4ee-4242-8658-83608d42ae75",
   "metadata": {},
   "source": [
    "Print the shape of the two representations"
   ]
  },
  {
   "cell_type": "code",
   "execution_count": null,
   "id": "78e40afc-e0da-4579-8701-7655bc773a6d",
   "metadata": {},
   "outputs": [],
   "source": [
    "state[\"chars\"].shape, state[\"pixel\"].shape"
   ]
  },
  {
   "cell_type": "markdown",
   "id": "6b41364c-6a92-40a5-8c8a-6281f34ed173",
   "metadata": {},
   "source": [
    "We can render visually the environment"
   ]
  },
  {
   "cell_type": "code",
   "execution_count": null,
   "id": "29f9002f-7c33-4ff5-8931-21098379ba4d",
   "metadata": {},
   "outputs": [],
   "source": [
    "plt.imshow(state[\"pixel\"])"
   ]
  },
  {
   "cell_type": "markdown",
   "id": "25563df2-3778-4a38-9938-f030305e2a4d",
   "metadata": {},
   "source": [
    "---"
   ]
  },
  {
   "cell_type": "code",
   "execution_count": null,
   "id": "268e10cd-600b-40ec-8478-623bfa540d0f",
   "metadata": {},
   "outputs": [],
   "source": [
    "from utils import *\n",
    "from algorithms import bfs, a_star"
   ]
  },
  {
   "cell_type": "markdown",
   "id": "b49a3826-ff35-4628-b8a9-9af6013f0ca8",
   "metadata": {},
   "source": [
    "## Breadth-First Search (BFS)"
   ]
  },
  {
   "cell_type": "markdown",
   "id": "baaf825d-d2a5-4149-8b98-5376ac2065dc",
   "metadata": {},
   "source": [
    "```\n",
    "procedure BFS(G, start_vertex):\n",
    "    create a queue Q\n",
    "    create a set visited\n",
    "    enqueue start_vertex into Q\n",
    "    add start_vertex to visited\n",
    "    \n",
    "    while Q is not empty:\n",
    "        current_vertex = dequeue from Q\n",
    "        process current_vertex\n",
    "        \n",
    "        for each neighbor in G.adjacent(current_vertex):\n",
    "            if neighbor is not in visited:\n",
    "                enqueue neighbor into Q\n",
    "                add neighbor to visited"
   ]
  },
  {
   "cell_type": "markdown",
   "id": "3187df21-ce1c-42cc-925d-62de0a834a74",
   "metadata": {},
   "source": [
    "Create the first environment"
   ]
  },
  {
   "cell_type": "code",
   "execution_count": null,
   "id": "5af7e15c-bfcf-4efa-9906-9f2bb526f363",
   "metadata": {},
   "outputs": [],
   "source": [
    "env = gym.make(\n",
    "    \"MiniHack-ExploreMaze-Hard-Mapped-v0\", observation_keys=(\"chars\", \"pixel\")\n",
    ")\n",
    "state = env.reset()\n",
    "env.render()"
   ]
  },
  {
   "cell_type": "markdown",
   "id": "14864a6e-9c06-407a-9ec7-b1249c388a6c",
   "metadata": {},
   "source": [
    "Render the environment (we reduce the representation to remove usesless black space)"
   ]
  },
  {
   "cell_type": "code",
   "execution_count": null,
   "id": "9d44c4d7-7107-407c-afdc-b68074a3b95a",
   "metadata": {},
   "outputs": [],
   "source": [
    "plt.imshow(state[\"pixel\"][25:300, :475])"
   ]
  },
  {
   "cell_type": "markdown",
   "id": "a75aa41b-ec0c-4e20-90fc-48f5e372575f",
   "metadata": {},
   "source": [
    "Store the state ASCII representation, which will be used to compute the solution, and the pixel information"
   ]
  },
  {
   "cell_type": "code",
   "execution_count": null,
   "id": "a763f9c1-98ba-4548-b0f7-2cefaab641f8",
   "metadata": {},
   "outputs": [],
   "source": [
    "game_map = state[\"chars\"]\n",
    "game = state[\"pixel\"]"
   ]
  },
  {
   "cell_type": "markdown",
   "id": "14bcf98d-8638-480c-b074-74c67b784751",
   "metadata": {},
   "source": [
    "Find the player (@) and the target (>) using the functions in _utils.py_"
   ]
  },
  {
   "cell_type": "code",
   "execution_count": null,
   "metadata": {},
   "outputs": [],
   "source": [
    "game_map.shape"
   ]
  },
  {
   "cell_type": "code",
   "execution_count": null,
   "metadata": {},
   "outputs": [],
   "source": [
    "start1 = get_player_location1(game_map)\n",
    "start1\n",
    "# We wanted to understand why get_player_location was defined with x[0], y[0]"
   ]
  },
  {
   "cell_type": "code",
   "execution_count": null,
   "metadata": {},
   "outputs": [],
   "source": [
    "get_player_location1.__annotations__"
   ]
  },
  {
   "cell_type": "code",
   "execution_count": null,
   "id": "097064dc-a07f-4975-b891-70d81841ef3a",
   "metadata": {},
   "outputs": [],
   "source": [
    "start = get_player_location(game_map)\n",
    "target = get_target_location(game_map)\n",
    "print(\"Agent position:\", start)\n",
    "print(\"Target position:\", target)"
   ]
  },
  {
   "cell_type": "markdown",
   "id": "44744f11-bb97-4011-8de1-079dd3d09f20",
   "metadata": {},
   "source": [
    "Compute the solution finding the path to reach the target"
   ]
  },
  {
   "cell_type": "code",
   "execution_count": null,
   "id": "88b550f5-8fd1-4675-868f-0ff01fe27dd7",
   "metadata": {},
   "outputs": [],
   "source": [
    "%%time\n",
    "path = bfs(game_map, start, target)"
   ]
  },
  {
   "cell_type": "markdown",
   "id": "05d54aa7-9ca0-4b04-afde-14910d5b4b81",
   "metadata": {},
   "source": [
    "The expected output is a list of tuples that contains the (x, y) coordinates that the player has to visit in order to reach the target."
   ]
  },
  {
   "cell_type": "code",
   "execution_count": null,
   "id": "c0caab89-6e28-4e47-909b-470db007cc07",
   "metadata": {},
   "outputs": [],
   "source": [
    "path"
   ]
  },
  {
   "cell_type": "markdown",
   "id": "a63dd3ec-87c4-4a5e-9158-88efbff1efbe",
   "metadata": {},
   "source": [
    "From the sequence of (x, y) coordinates compute the actual actions."
   ]
  },
  {
   "cell_type": "code",
   "execution_count": null,
   "id": "c970c682-ef8b-4b97-9066-a2fe48de3fd6",
   "metadata": {},
   "outputs": [],
   "source": [
    "actions = actions_from_path(start, path[1:])"
   ]
  },
  {
   "cell_type": "code",
   "execution_count": null,
   "id": "91217259-d930-4953-93e1-d60a6d2892fb",
   "metadata": {},
   "outputs": [],
   "source": [
    "actions"
   ]
  },
  {
   "cell_type": "markdown",
   "id": "d00611a0-071c-4e18-90dc-068a04e53dbc",
   "metadata": {},
   "source": [
    "Iterate over actions and render the environment to see the solution."
   ]
  },
  {
   "cell_type": "code",
   "execution_count": null,
   "id": "7462cad6-8e44-4b8a-b65a-8fd1b6d284d3",
   "metadata": {},
   "outputs": [],
   "source": [
    "image = plt.imshow(game[25:300, :475])\n",
    "for action in actions:\n",
    "    s, _, _, _ = env.step(action)\n",
    "    display.display(plt.gcf())\n",
    "    display.clear_output(wait=True)\n",
    "    image.set_data(s[\"pixel\"][25:300, :475])"
   ]
  },
  {
   "cell_type": "markdown",
   "id": "194b1cad-1ac0-43fa-b61d-c2fb0d779b0c",
   "metadata": {},
   "source": [
    "---"
   ]
  },
  {
   "cell_type": "markdown",
   "id": "7a2caf52-8c38-47d6-b314-a78ece993ae5",
   "metadata": {},
   "source": [
    "## Using custom des files\n",
    "- https://minihack-editor.github.io/\n",
    "- https://minihack.readthedocs.io/en/latest/tutorials/des_file_tutorial.html"
   ]
  },
  {
   "cell_type": "code",
   "execution_count": null,
   "id": "7c4b91bf-6861-4d8d-9c7b-e5f1766f221a",
   "metadata": {},
   "outputs": [],
   "source": [
    "env = gym.make(\n",
    "    \"MiniHack-Navigation-Custom-v0\",\n",
    "    observation_keys=(\"chars\", \"pixel\"),\n",
    "    des_file=\"simple_maze.des\",\n",
    ")\n",
    "state = env.reset()\n",
    "env.render()"
   ]
  },
  {
   "cell_type": "code",
   "execution_count": null,
   "id": "b272c3ab-9692-4a8a-9768-fe53b69dde2d",
   "metadata": {},
   "outputs": [],
   "source": [
    "plt.imshow(state[\"pixel\"][75:300, 450:800])"
   ]
  },
  {
   "cell_type": "code",
   "execution_count": null,
   "id": "00962085-fb2a-416b-b8bf-27853b26f340",
   "metadata": {},
   "outputs": [],
   "source": [
    "game_map = state[\"chars\"]\n",
    "game = state[\"pixel\"]\n",
    "start = get_player_location(game_map)\n",
    "target = get_target_location(game_map)\n",
    "print(start)"
   ]
  },
  {
   "cell_type": "code",
   "execution_count": null,
   "id": "01f728da-4938-48ca-91d6-848aadd09cc8",
   "metadata": {},
   "outputs": [],
   "source": [
    "%%time\n",
    "path = bfs(game_map, start, target)"
   ]
  },
  {
   "cell_type": "code",
   "execution_count": null,
   "id": "4b8c8452-57f8-45cd-893a-6981b7bc31c7",
   "metadata": {},
   "outputs": [],
   "source": [
    "actions = actions_from_path(start, path[1:])"
   ]
  },
  {
   "cell_type": "code",
   "execution_count": null,
   "metadata": {},
   "outputs": [],
   "source": [
    "path[1:]"
   ]
  },
  {
   "cell_type": "code",
   "execution_count": null,
   "id": "64cbd372-9e23-4513-88d5-f2916f75f985",
   "metadata": {},
   "outputs": [],
   "source": [
    "image = plt.imshow(game[75:300, 450:800])\n",
    "for action in actions:\n",
    "    s, _, _, _ = env.step(action)\n",
    "    display.display(plt.gcf())\n",
    "    display.clear_output(wait=True)\n",
    "    image.set_data(s[\"pixel\"][75:300, 450:800])"
   ]
  },
  {
   "cell_type": "markdown",
   "id": "0faaf8ae-7fc3-4888-9a14-a725d66f6dcc",
   "metadata": {},
   "source": [
    "---"
   ]
  },
  {
   "cell_type": "code",
   "execution_count": null,
   "id": "45928c69-51a2-40b2-8f06-a0f986792899",
   "metadata": {},
   "outputs": [],
   "source": [
    "env = gym.make(\n",
    "    \"MiniHack-Navigation-Custom-v0\",\n",
    "    observation_keys=(\"chars\", \"pixel\"),\n",
    "    des_file=\"complex_maze.des\",\n",
    ")\n",
    "state = env.reset()\n",
    "env.render()"
   ]
  },
  {
   "cell_type": "code",
   "execution_count": null,
   "id": "f2bf0e3c-e590-4921-bc0d-83b7788b20fd",
   "metadata": {},
   "outputs": [],
   "source": [
    "plt.imshow(state[\"pixel\"][:, 300:975])"
   ]
  },
  {
   "cell_type": "code",
   "execution_count": null,
   "id": "44c8332a-47aa-49d4-a0e7-b96d0827e309",
   "metadata": {},
   "outputs": [],
   "source": [
    "game_map = state[\"chars\"]\n",
    "game = state[\"pixel\"]\n",
    "start = get_player_location(game_map)\n",
    "target = get_target_location(game_map)"
   ]
  },
  {
   "cell_type": "code",
   "execution_count": null,
   "id": "922f21a9-2d83-4830-bc6c-a393ba80c4b6",
   "metadata": {},
   "outputs": [],
   "source": [
    "%%time\n",
    "path = bfs(game_map, start, target)"
   ]
  },
  {
   "cell_type": "code",
   "execution_count": null,
   "id": "a0e1a8c3-ce88-4fba-9782-2b1fb331a1df",
   "metadata": {},
   "outputs": [],
   "source": [
    "actions = actions_from_path(start, path[1:])"
   ]
  },
  {
   "cell_type": "code",
   "execution_count": null,
   "id": "e6a0a904-4481-4085-933f-84e83055f56e",
   "metadata": {},
   "outputs": [],
   "source": [
    "image = plt.imshow(game[:, 300:975])\n",
    "for action in actions:\n",
    "    s, _, _, _ = env.step(action)\n",
    "    display.display(plt.gcf())\n",
    "    display.clear_output(wait=True)\n",
    "    image.set_data(s[\"pixel\"][:, 300:975])"
   ]
  },
  {
   "cell_type": "markdown",
   "id": "1baf72b1-7ce2-493b-acbb-28cd1d86bc69",
   "metadata": {},
   "source": [
    "---"
   ]
  },
  {
   "cell_type": "markdown",
   "id": "ccd6614a-df3b-4ba4-988f-f8cfd5528fd7",
   "metadata": {},
   "source": [
    "## A* Search Algorithm"
   ]
  },
  {
   "cell_type": "markdown",
   "id": "ad32559d-00d0-4e45-9b08-98f48fd1aabd",
   "metadata": {},
   "source": [
    "A* (star) Pathfinding\n",
    "```\n",
    "// Initialize both open and closed list  \n",
    "let the openList equal empty list of nodes  \n",
    "let the closedList equal empty list of nodes\n",
    "// Add the start node  \n",
    "put the startNode on the openList\n",
    "// Loop until you find the end  \n",
    "while the openList is not empty\n",
    "\t// Get the current node  \n",
    "    let the currentNode equal the node with the least f value  \n",
    "    remove the currentNode from the openList  \n",
    "    add the currentNode to the closedList\n",
    "    // Check if found the goal  \n",
    "    if currentNode is the goal  \n",
    "        Congratz! You've found the end! Backtrack to get path\n",
    "\t\n",
    "\t// Generate children  \n",
    "    let the children of the currentNode equal the adjacent nodes  \n",
    "      \n",
    "    for each child in the children \n",
    "\t    // Check if child is on the closedList  \n",
    "        if child is in the closedList  \n",
    "            continue to beginning of for loop\n",
    "        \n",
    "        // Create the f, g, and h values  \n",
    "        child.g = currentNode.g + distance between child and current  \n",
    "        child.h = distance from child to end  \n",
    "        child.f = child.g + child.h\n",
    "        \n",
    "        // Child is already in openList  \n",
    "        if child.position is in the openList's nodes positions  \n",
    "            if the child.g is higher than the openList node's g  \n",
    "                continue to beginning of for loop\n",
    "        \n",
    "        // Add the child to the openList  \n",
    "        add the child to the openList"
   ]
  },
  {
   "cell_type": "code",
   "execution_count": null,
   "id": "ad7c81da-edef-4797-b372-20d4c0b32ed8",
   "metadata": {},
   "outputs": [],
   "source": [
    "env = gym.make(\n",
    "    \"MiniHack-ExploreMaze-Hard-Mapped-v0\", observation_keys=(\"chars\", \"pixel\")\n",
    ")\n",
    "state = env.reset()\n",
    "env.render()"
   ]
  },
  {
   "cell_type": "code",
   "execution_count": null,
   "id": "8b1e01c3-2baf-4f7a-bbcd-ae91e8dd9d2a",
   "metadata": {},
   "outputs": [],
   "source": [
    "plt.imshow(state[\"pixel\"][25:300, :475])"
   ]
  },
  {
   "cell_type": "code",
   "execution_count": null,
   "id": "e7e8ef7b-b5d8-46e8-bf28-53989f0aa415",
   "metadata": {},
   "outputs": [],
   "source": [
    "game_map = state[\"chars\"]\n",
    "game = state[\"pixel\"]"
   ]
  },
  {
   "cell_type": "code",
   "execution_count": null,
   "id": "15f649db-8d96-4685-a1a3-2a2c642f379c",
   "metadata": {},
   "outputs": [],
   "source": [
    "start = get_player_location(game_map)\n",
    "target = get_target_location(game_map)\n",
    "print(\"Agent position:\", start)\n",
    "print(\"Target position:\", target)"
   ]
  },
  {
   "cell_type": "code",
   "execution_count": null,
   "id": "1d76a80b-e563-4312-ba41-095ec12f4355",
   "metadata": {},
   "outputs": [],
   "source": [
    "%%time\n",
    "path = a_star(game_map, start, target, manhattan_distance)"
   ]
  },
  {
   "cell_type": "code",
   "execution_count": null,
   "metadata": {},
   "outputs": [],
   "source": [
    "from queue import PriorityQueue\n",
    "\n",
    "q = PriorityQueue()\n",
    "q.put(3)\n",
    "q.qsize()"
   ]
  },
  {
   "cell_type": "code",
   "execution_count": null,
   "metadata": {},
   "outputs": [],
   "source": [
    "q.get()"
   ]
  },
  {
   "cell_type": "code",
   "execution_count": null,
   "metadata": {},
   "outputs": [],
   "source": [
    "q.qsize()"
   ]
  },
  {
   "cell_type": "code",
   "execution_count": null,
   "id": "5fd0a039-693b-4ea7-b497-69c73f424a8c",
   "metadata": {},
   "outputs": [],
   "source": [
    "actions = actions_from_path(start, path[1:])"
   ]
  },
  {
   "cell_type": "code",
   "execution_count": null,
   "id": "bf288c2d-704b-4d53-b427-bf2c8fefc229",
   "metadata": {},
   "outputs": [],
   "source": [
    "image = plt.imshow(game[25:300, :475])\n",
    "for action in actions:\n",
    "    s, _, _, _ = env.step(action)\n",
    "    display.display(plt.gcf())\n",
    "    display.clear_output(wait=True)\n",
    "    image.set_data(s[\"pixel\"][25:300, :475])"
   ]
  },
  {
   "cell_type": "markdown",
   "id": "3c81c6bf-87ef-41f4-873e-cd4700eca39a",
   "metadata": {},
   "source": [
    "---"
   ]
  },
  {
   "cell_type": "code",
   "execution_count": null,
   "id": "bc1e5291-8c3c-4d2e-82be-2622b024c2f5",
   "metadata": {},
   "outputs": [],
   "source": [
    "env = gym.make(\n",
    "    \"MiniHack-Navigation-Custom-v0\",\n",
    "    observation_keys=(\"chars\", \"pixel\"),\n",
    "    des_file=\"simple_maze.des\",\n",
    ")\n",
    "state = env.reset()\n",
    "env.render()"
   ]
  },
  {
   "cell_type": "code",
   "execution_count": null,
   "id": "6417f789-f8f4-4fa8-b65d-a974bb94968c",
   "metadata": {},
   "outputs": [],
   "source": [
    "plt.imshow(state[\"pixel\"][75:300, 450:800])"
   ]
  },
  {
   "cell_type": "code",
   "execution_count": null,
   "id": "00a6ba73-7ec3-4492-9490-a890100b37c3",
   "metadata": {},
   "outputs": [],
   "source": [
    "game_map = state[\"chars\"]\n",
    "game = state[\"pixel\"]\n",
    "start = get_player_location(game_map)\n",
    "target = get_target_location(game_map)"
   ]
  },
  {
   "cell_type": "code",
   "execution_count": null,
   "id": "2d6aae58-c967-488a-8259-8148c68752ae",
   "metadata": {},
   "outputs": [],
   "source": [
    "%%time\n",
    "path = a_star(game_map, start, target, manhattan_distance)"
   ]
  },
  {
   "cell_type": "code",
   "execution_count": null,
   "id": "1c4eafc4-305c-4ac6-ac6d-dc05519ddc17",
   "metadata": {},
   "outputs": [],
   "source": [
    "actions = actions_from_path(start, path[1:])"
   ]
  },
  {
   "cell_type": "code",
   "execution_count": null,
   "id": "e1202e38-11eb-47ea-a573-579cbd49ea3b",
   "metadata": {},
   "outputs": [],
   "source": [
    "image = plt.imshow(game[75:300, 450:800])\n",
    "for action in actions:\n",
    "    s, _, _, _ = env.step(action)\n",
    "    display.display(plt.gcf())\n",
    "    display.clear_output(wait=True)\n",
    "    image.set_data(s[\"pixel\"][75:300, 450:800])"
   ]
  },
  {
   "cell_type": "markdown",
   "id": "6aa0d34a-2103-4e72-b253-878691bd6119",
   "metadata": {},
   "source": [
    "---"
   ]
  },
  {
   "cell_type": "code",
   "execution_count": null,
   "id": "70aa38c4-6a34-42d6-8c23-6088bdd2d19c",
   "metadata": {},
   "outputs": [],
   "source": [
    "env = gym.make(\n",
    "    \"MiniHack-Navigation-Custom-v0\",\n",
    "    observation_keys=(\"chars\", \"pixel\"),\n",
    "    des_file=\"complex_maze.des\",\n",
    ")\n",
    "state = env.reset()\n",
    "env.render()"
   ]
  },
  {
   "cell_type": "code",
   "execution_count": null,
   "id": "5f4bc5a8-3239-4b3c-86f6-b05616637180",
   "metadata": {},
   "outputs": [],
   "source": [
    "plt.imshow(state[\"pixel\"][:, 300:975])"
   ]
  },
  {
   "cell_type": "code",
   "execution_count": null,
   "id": "82652615-2972-4a24-a8dc-60e17f807a32",
   "metadata": {},
   "outputs": [],
   "source": [
    "game_map = state[\"chars\"]\n",
    "game = state[\"pixel\"]\n",
    "start = get_player_location(game_map)\n",
    "target = get_target_location(game_map)"
   ]
  },
  {
   "cell_type": "code",
   "execution_count": null,
   "id": "082d217d-7c7b-4a25-b415-cb8062de4a88",
   "metadata": {},
   "outputs": [],
   "source": [
    "%%time\n",
    "path = a_star(game_map, start, target, manhattan_distance)"
   ]
  },
  {
   "cell_type": "code",
   "execution_count": null,
   "id": "2e1ba5ab-1eaf-412e-bfc6-de3760b946f6",
   "metadata": {},
   "outputs": [],
   "source": [
    "actions = actions_from_path(start, path[1:])"
   ]
  },
  {
   "cell_type": "code",
   "execution_count": null,
   "id": "7dce9921-1815-4f64-b9d3-d140ae45c4dd",
   "metadata": {},
   "outputs": [],
   "source": [
    "image = plt.imshow(game[:, 300:975])\n",
    "for action in actions:\n",
    "    s, _, _, _ = env.step(action)\n",
    "    display.display(plt.gcf())\n",
    "    display.clear_output(wait=True)\n",
    "    image.set_data(s[\"pixel\"][:, 300:975])"
   ]
  },
  {
   "cell_type": "markdown",
   "id": "acfa60fe-dd8c-486a-ae64-1ed55091a79c",
   "metadata": {},
   "source": [
    "---"
   ]
  },
  {
   "cell_type": "markdown",
   "id": "26532e49-f614-4cb8-b086-93a6ea018c8c",
   "metadata": {},
   "source": [
    "Using the '_crop_' combined with some observation keys, it returns a view centered around the agent.\n",
    "Usually is 9x9, but can be modified at preference."
   ]
  },
  {
   "cell_type": "code",
   "execution_count": null,
   "id": "bcb63ac3-2087-4791-97b3-0cd5fef805cf",
   "metadata": {},
   "outputs": [],
   "source": [
    "env = gym.make(\n",
    "    \"MiniHack-Navigation-Custom-v0\",\n",
    "    observation_keys=(\"chars\", \"pixel_crop\"),\n",
    "    des_file=\"complex_maze.des\",\n",
    ")\n",
    "state = env.reset()\n",
    "env.render()"
   ]
  },
  {
   "cell_type": "code",
   "execution_count": null,
   "id": "ad149869-b87d-4e5f-b710-7239c45d2f13",
   "metadata": {},
   "outputs": [],
   "source": [
    "plt.imshow(state[\"pixel_crop\"])"
   ]
  },
  {
   "cell_type": "code",
   "execution_count": null,
   "id": "f29e7f31-db4a-4eef-a288-93acff90be24",
   "metadata": {},
   "outputs": [],
   "source": [
    "game_map = state[\"chars\"]\n",
    "game = state[\"pixel_crop\"]\n",
    "start = get_player_location(game_map)\n",
    "target = get_target_location(game_map)"
   ]
  },
  {
   "cell_type": "code",
   "execution_count": null,
   "id": "41565271-c86e-4bdc-b969-8d3a7361eb77",
   "metadata": {},
   "outputs": [],
   "source": [
    "%%time\n",
    "path = a_star(game_map, start, target, manhattan_distance)"
   ]
  },
  {
   "cell_type": "code",
   "execution_count": null,
   "id": "fd61847e-ef37-457b-b4a9-2398414aabb9",
   "metadata": {},
   "outputs": [],
   "source": [
    "actions = actions_from_path(start, path[1:])"
   ]
  },
  {
   "cell_type": "code",
   "execution_count": null,
   "id": "8caa94b6-4d3b-4358-ad8c-4dbeb7558b8c",
   "metadata": {},
   "outputs": [],
   "source": [
    "image = plt.imshow(game)\n",
    "for action in actions:\n",
    "    s, _, _, _ = env.step(action)\n",
    "    display.display(plt.gcf())\n",
    "    display.clear_output(wait=True)\n",
    "    image.set_data(s[\"pixel_crop\"])"
   ]
  },
  {
   "cell_type": "code",
   "execution_count": null,
   "metadata": {},
   "outputs": [],
   "source": []
  }
 ],
 "metadata": {
  "kernelspec": {
   "display_name": "Python 3 (ipykernel)",
   "language": "python",
   "name": "python3"
  },
  "language_info": {
   "codemirror_mode": {
    "name": "ipython",
    "version": 3
   },
   "file_extension": ".py",
   "mimetype": "text/x-python",
   "name": "python",
   "nbconvert_exporter": "python",
   "pygments_lexer": "ipython3",
   "version": "3.10.13"
  }
 },
 "nbformat": 4,
 "nbformat_minor": 5
}
