{
 "cells": [
  {
   "cell_type": "markdown",
   "metadata": {},
   "source": [
    "# Hands-on Session with Problog\n",
    "## Artificial Intelligence Fundamentals 2023/24\n",
    "Elia Piccoli (elia.piccoli@phd.unipi.it)"
   ]
  },
  {
   "cell_type": "markdown",
   "metadata": {},
   "source": [
    "---"
   ]
  },
  {
   "cell_type": "markdown",
   "metadata": {},
   "source": [
    "We can reuse the virtual environment created in the previous session.\n",
    "\n",
    "To recall, the packages needed are: _nle_, _minihack_, _matplotlib_, _notebook_, _pyswip_"
   ]
  },
  {
   "cell_type": "markdown",
   "metadata": {},
   "source": [
    "For today lesson we will use _problog_ - https://problog.readthedocs.io/en/latest"
   ]
  },
  {
   "cell_type": "markdown",
   "metadata": {},
   "source": [
    "### >> **Install** <<\n",
    "Please read carefully the install instructions!\n",
    "\n",
    "You can find them here: https://problog.readthedocs.io/en/latest/install.html"
   ]
  },
  {
   "cell_type": "markdown",
   "metadata": {},
   "source": [
    "---"
   ]
  },
  {
   "cell_type": "markdown",
   "metadata": {},
   "source": [
    "### _Introduction_"
   ]
  },
  {
   "cell_type": "markdown",
   "metadata": {},
   "source": [
    "##### _Probabilistic facts_"
   ]
  },
  {
   "cell_type": "markdown",
   "metadata": {},
   "source": [
    "The main difference between Prolog and ProbLog is that ProbLog support probabilistic facts. In the language, this extension is realized by the addition of a single operator `::`"
   ]
  },
  {
   "cell_type": "markdown",
   "metadata": {},
   "source": [
    "This indicates that the fact heads is true with probability 0.5 and false with probability 1-0.5.\n",
    "\n",
    "`0.5::heads.`"
   ]
  },
  {
   "cell_type": "markdown",
   "metadata": {},
   "source": [
    "##### _Annotated disjunctions_"
   ]
  },
  {
   "cell_type": "markdown",
   "metadata": {},
   "source": [
    "ProbLog also supports non-binary choices. For example, we can model the throw of die as follows.\n",
    "\n",
    "This type of statement is called an _annotated disjunction_. It expresses that _at most_ one of these choices is true. \n",
    "\n",
    "`1/6::die(D, 1); 1/6::die(D, 2); 1/6::die(D, 3); 1/6::die(D, 4); 1/6::die(D, 5); 1/6::die(D, 6).`"
   ]
  },
  {
   "cell_type": "markdown",
   "metadata": {},
   "source": [
    "##### _Probabilistic clauses_"
   ]
  },
  {
   "cell_type": "markdown",
   "metadata": {},
   "source": [
    "ProbLog also supports probabilities in the head of clauses.\n",
    "\n",
    "This means that if burglary is _true_, alarm will be true as well with 90% probability."
   ]
  },
  {
   "cell_type": "markdown",
   "metadata": {},
   "source": [
    "`0.1::burglary.`\n",
    "\n",
    "`0.9::alarm :- burglary.`"
   ]
  },
  {
   "cell_type": "markdown",
   "metadata": {},
   "source": [
    "##### _Queries_"
   ]
  },
  {
   "cell_type": "markdown",
   "metadata": {},
   "source": [
    "A query indicates for which entity we want to compute the probability.\n",
    "\n",
    "Queries are specified by adding a fact `query(Query)`"
   ]
  },
  {
   "cell_type": "markdown",
   "metadata": {},
   "source": [
    "\n",
    "`0.5::heads(C).`\n",
    "\n",
    "`two_heads :- heads(c1), heads(c2).`\n",
    "\n",
    "`query(two_heads).`"
   ]
  },
  {
   "cell_type": "markdown",
   "metadata": {},
   "source": [
    "##### _Evidence_"
   ]
  },
  {
   "cell_type": "markdown",
   "metadata": {},
   "source": [
    "Evidence specifies any observations on which we want to condition this probability. Evidence conditions a part of the program to be true or false.\n",
    "\n",
    "It can be specified using a fact `evidence(Literal)`."
   ]
  },
  {
   "cell_type": "markdown",
   "metadata": {},
   "source": [
    "`0.5::heads(C).`\n",
    "\n",
    "`two_heads :- heads(c1), heads(c2).`\n",
    "\n",
    "`evidence(\\+ two_heads).`\n",
    "\n",
    "`query(heads(c1)).`"
   ]
  },
  {
   "cell_type": "markdown",
   "metadata": {},
   "source": [
    "---"
   ]
  },
  {
   "cell_type": "markdown",
   "metadata": {},
   "source": [
    "### _Moving to Python_"
   ]
  },
  {
   "cell_type": "code",
   "execution_count": null,
   "metadata": {},
   "outputs": [],
   "source": [
    "from problog.program import PrologString\n",
    "from problog import get_evaluatable"
   ]
  },
  {
   "cell_type": "markdown",
   "metadata": {},
   "source": [
    "We define our knowledge base as string."
   ]
  },
  {
   "cell_type": "code",
   "execution_count": null,
   "metadata": {},
   "outputs": [],
   "source": [
    "p = PrologString(\n",
    "    \"\"\"\n",
    "coin(c1).\n",
    "coin(c2).\n",
    "0.4::heads(C); 0.6::tails(C) :- coin(C).\n",
    "win :- heads(C).\n",
    "query(win).\n",
    "\"\"\"\n",
    ")"
   ]
  },
  {
   "cell_type": "markdown",
   "metadata": {},
   "source": [
    "We can compute the output of the queries by using the following command."
   ]
  },
  {
   "cell_type": "code",
   "execution_count": null,
   "metadata": {},
   "outputs": [],
   "source": [
    "get_evaluatable().create_from(p).evaluate()\n",
    "# probability of win is that head comes up on coin c1 (first try) or c2 (second try): 0.4 + 0.6*0.4 = 0.64"
   ]
  },
  {
   "cell_type": "markdown",
   "metadata": {},
   "source": [
    "A more in depth explanation of what is happening behind the scenes is given by the step-by-step solution."
   ]
  },
  {
   "cell_type": "code",
   "execution_count": null,
   "metadata": {},
   "outputs": [],
   "source": [
    "from problog.program import PrologString\n",
    "from problog.formula import LogicFormula, LogicDAG\n",
    "from problog.ddnnf_formula import DDNNF\n",
    "from problog.cnf_formula import CNF"
   ]
  },
  {
   "cell_type": "code",
   "execution_count": null,
   "metadata": {},
   "outputs": [],
   "source": [
    "# ground the program\n",
    "lf = LogicFormula.create_from(p)\n",
    "\n",
    "# break cycles in the ground program\n",
    "dag = LogicDAG.create_from(lf)\n",
    "\n",
    "# convert to CNF\n",
    "cnf = CNF.create_from(dag)\n",
    "\n",
    "# compile CNF to ddnnf\n",
    "ddnnf = DDNNF.create_from(cnf)\n",
    "\n",
    "ddnnf.evaluate()"
   ]
  },
  {
   "cell_type": "markdown",
   "metadata": {},
   "source": [
    "Instead of providing the terms as string, it is possible to use python objects."
   ]
  },
  {
   "cell_type": "code",
   "execution_count": null,
   "metadata": {},
   "outputs": [],
   "source": [
    "from problog.program import SimpleProgram\n",
    "from problog.logic import Constant, Var, Term, AnnotatedDisjunction"
   ]
  },
  {
   "cell_type": "code",
   "execution_count": null,
   "metadata": {},
   "outputs": [],
   "source": [
    "coin, heads, tails, win, query = (\n",
    "    Term(\"coin\"),\n",
    "    Term(\"heads\"),\n",
    "    Term(\"tails\"),\n",
    "    Term(\"win\"),\n",
    "    Term(\"query\"),\n",
    ")\n",
    "C = Var(\"C\")\n",
    "p = SimpleProgram()\n",
    "p += coin(Constant(\"c1\"))\n",
    "p += coin(Constant(\"c2\"))\n",
    "p += AnnotatedDisjunction([heads(C, p=0.4), tails(C, p=0.6)], coin(C))\n",
    "p += win << heads(C)\n",
    "p += query(win)\n",
    "\n",
    "get_evaluatable().create_from(p).evaluate()"
   ]
  },
  {
   "cell_type": "markdown",
   "metadata": {},
   "source": [
    "---"
   ]
  },
  {
   "cell_type": "markdown",
   "metadata": {},
   "source": [
    "### _Some more examples_"
   ]
  },
  {
   "cell_type": "code",
   "execution_count": null,
   "metadata": {},
   "outputs": [],
   "source": [
    "t2 = PrologString(\n",
    "    \"\"\"\n",
    "0.8::stress(ann).\n",
    "0.4::stress(bob).\n",
    "0.6::influences(ann,bob).\n",
    "0.2::influences(bob,carl).\n",
    "\n",
    "smokes(X) :- stress(X).\n",
    "smokes(X) :- influences(Y,X), smokes(Y).\n",
    "\n",
    "query(smokes(carl)).\n",
    "query(smokes(bob)).\n",
    "\"\"\"\n",
    ")\n",
    "get_evaluatable().create_from(t2).evaluate()\n",
    "# probability that bob smokes is that Bob is tressed (0.4) or that he's not stressed (0.6) and Ann is stressed (0.8) and that Ann influences Bob (0.6)"
   ]
  },
  {
   "cell_type": "code",
   "execution_count": null,
   "metadata": {},
   "outputs": [],
   "source": [
    "t3 = PrologString(\n",
    "    \"\"\"\n",
    "0.4 :: heads.\n",
    "\n",
    "0.3 :: col(1,red); 0.7 :: col(1,blue).\n",
    "0.2 :: col(2,red); 0.3 :: col(2,green); 0.5 :: col(2,blue).\n",
    "\n",
    "win :- heads, col(_,red).\n",
    "win :- col(1,C), col(2,C).\n",
    "\n",
    "query(heads).\n",
    "query(win).\n",
    "query(col(1,_)).\n",
    "query(col(2,_)).\n",
    "evidence(col(2,green)).\n",
    "\"\"\"\n",
    ")\n",
    "get_evaluatable().create_from(t3).evaluate()\n",
    "# win = 0.12 = 0.4*0.3 = probability of heads and red on color 1 assuming that color 2 is green"
   ]
  },
  {
   "cell_type": "code",
   "execution_count": null,
   "metadata": {},
   "outputs": [],
   "source": [
    "t3 = PrologString(\n",
    "    \"\"\"\n",
    "0.5::weather(sun,0) ; 0.5::weather(rain,0).\n",
    "0.6::weather(sun,T) ; 0.4::weather(rain,T) :- T>0, Tprev is T-1, weather(sun,Tprev).\n",
    "0.2::weather(sun,T) ; 0.8::weather(rain,T) :- T>0, Tprev is T-1, weather(rain,Tprev).\n",
    "query(weather(_,10)).\n",
    "\"\"\"\n",
    ")\n",
    "get_evaluatable().create_from(t3).evaluate()"
   ]
  },
  {
   "cell_type": "markdown",
   "metadata": {},
   "source": [
    "---"
   ]
  },
  {
   "cell_type": "markdown",
   "metadata": {},
   "source": [
    "#### _Today Hands-on_"
   ]
  },
  {
   "cell_type": "markdown",
   "metadata": {},
   "source": [
    "_School Bayesian network_"
   ]
  },
  {
   "cell_type": "markdown",
   "metadata": {},
   "source": [
    "![STUDENTS](student_img.png)"
   ]
  },
  {
   "cell_type": "markdown",
   "metadata": {},
   "source": [
    "### _First task_\n",
    "\n",
    "Define the bayesian network using ProbLog"
   ]
  },
  {
   "cell_type": "code",
   "execution_count": null,
   "metadata": {},
   "outputs": [],
   "source": [
    "t = PrologString(\n",
    "    \"\"\"\n",
    "0.6::difficult ; 0.7::smart.\n",
    "0.85::success :- difficult, smart.\n",
    "0.1::success :- difficult, \\+smart.\n",
    "0.98::success :- \\+difficult, smart.\n",
    "0.45::success :- \\+difficult, \\+smart.\n",
    "query(success).\n",
    "\"\"\"\n",
    ")\n",
    "get_evaluatable().create_from(t).evaluate()"
   ]
  },
  {
   "cell_type": "code",
   "execution_count": null,
   "metadata": {},
   "outputs": [],
   "source": []
  },
  {
   "cell_type": "markdown",
   "metadata": {},
   "source": [
    "![EXAMS](exams.png)"
   ]
  },
  {
   "cell_type": "markdown",
   "metadata": {},
   "source": [
    "### _Second task_\n",
    "\n",
    "Modify the Problog code in order to:\n",
    "\n",
    "- Add the predicate _takes(S, C)_ that connects a student _student(S)_ to the course _course(C)_ taken.\n",
    "- Modify the previous elements (_difficult(C), smart(S)_) to add the new clauses of the previous point (_student(S), course(C)_).\n",
    "- Solve the following queries:\n",
    "    - `query(difficult(_)).`\n",
    "    - `query(smart(_)).`\n",
    "    - `query(success(_,_)).`\n",
    "- Specify the following evidences:\n",
    "    - `evidence(difficult(c2)).`\n",
    "    - `evidence(success(s1,c2)).`"
   ]
  },
  {
   "cell_type": "markdown",
   "metadata": {},
   "source": [
    "### _Third task_\n",
    "\n",
    "Try to remove _student(S), course(C)_ and connect _difficult(C), smart(S)_ only using the _takes(S, C)_ predicate."
   ]
  }
 ],
 "metadata": {
  "kernelspec": {
   "display_name": "nle",
   "language": "python",
   "name": "python3"
  },
  "language_info": {
   "codemirror_mode": {
    "name": "ipython",
    "version": 3
   },
   "file_extension": ".py",
   "mimetype": "text/x-python",
   "name": "python",
   "nbconvert_exporter": "python",
   "pygments_lexer": "ipython3",
   "version": "3.10.12"
  }
 },
 "nbformat": 4,
 "nbformat_minor": 2
}
