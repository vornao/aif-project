{
 "cells": [
  {
   "cell_type": "code",
   "execution_count": null,
   "metadata": {},
   "outputs": [],
   "source": [
    "%load_ext autoreload\n",
    "%autoreload 2"
   ]
  },
  {
   "cell_type": "code",
   "execution_count": null,
   "metadata": {},
   "outputs": [],
   "source": [
    "import gym\n",
    "import minihack\n",
    "import numpy as np\n",
    "import matplotlib.pyplot as plt\n",
    "import random\n",
    "import math\n",
    "import IPython.display as display\n",
    "import os\n",
    "\n",
    "from classes import *\n",
    "from tqdm import tqdm\n",
    "from utils import *\n",
    "\n",
    "from pyswip import Prolog\n",
    "from typing import List, Tuple\n",
    "\n",
    "# fix the seed for reproducibility (not fixing the seed for the whole program since we have imports!)\n",
    "random.seed(6667)\n",
    "np.random.seed(6667)"
   ]
  },
  {
   "cell_type": "markdown",
   "metadata": {},
   "source": [
    "# minihack env creation with a .des file"
   ]
  },
  {
   "cell_type": "code",
   "execution_count": null,
   "metadata": {},
   "outputs": [],
   "source": [
    "plt.rcParams[\"figure.figsize\"] = [20, 7]\n",
    "env = gym.make(\n",
    "    \"MiniHack-Navigation-Custom-v0\",\n",
    "    observation_keys=(\"chars\", \"pixel\"),\n",
    "    des_file=\"maps/irene.des\",\n",
    "    max_episode_steps=10000,\n",
    ")\n",
    "state = env.reset()\n",
    "# env.render()\n",
    "plt.imshow(state[\"pixel\"], aspect=\"auto\")  # type: ignore"
   ]
  },
  {
   "cell_type": "code",
   "execution_count": null,
   "metadata": {},
   "outputs": [],
   "source": [
    "state = env.reset()\n",
    "game_map = state[\"chars\"]  # type: ignore\n",
    "game = state[\"pixel\"]  # type: ignore\n",
    "start = get_player_location(game_map)\n",
    "target = get_target_location(game_map)\n",
    "game_map = Map(game_map, start, target)"
   ]
  },
  {
   "cell_type": "code",
   "execution_count": null,
   "metadata": {},
   "outputs": [],
   "source": [
    "print(f\"> start: {game_map.start}, target: {game_map.target}\")\n",
    "print(f\"> map size: {game_map.layout.shape}\")\n",
    "# print the map_matrix with matplotlib where the walls are black and the floor is white\n",
    "plt.imshow(game_map.map_matrix, cmap=\"gray\")\n",
    "plt.show()"
   ]
  },
  {
   "cell_type": "code",
   "execution_count": null,
   "metadata": {},
   "outputs": [],
   "source": [
    "PATH = \"kb/kb.pl\"\n",
    "KB = Prolog()\n",
    "KB.consult(PATH)\n",
    "\n",
    "KB.retractall(\"maze(_)\")\n",
    "KB.retractall(\"start(_,_)\")\n",
    "KB.asserta(f\"maze({game_map.map_matrix})\")\n",
    "KB.asserta(f\"start({game_map.start[0]}, {game_map.start[1]})\")\n",
    "\n",
    "for i in KB.query(\"maze(X)\"):\n",
    "    print(f'{i[\"X\"]}\\n')  # type: ignore\n",
    "\n",
    "# list(KB.query(\"maze(X)\"))"
   ]
  },
  {
   "cell_type": "markdown",
   "metadata": {},
   "source": [
    "# NTH1\n",
    "\n",
    "In Prolog, `nth1/3` is a built-in predicate that is used to access elements in a list by index. The `nth1/3` predicate has the following form:\n",
    "\n",
    "```prolog\n",
    "nth1(Index, List, Element)\n",
    "```\n",
    "Index: The index of the element you want to access.\n",
    "\n",
    "List: The list from which you want to access the element.\n",
    "\n",
    "Element: The variable that will be unified with the element at the specified index.\n"
   ]
  },
  {
   "cell_type": "code",
   "execution_count": null,
   "metadata": {},
   "outputs": [],
   "source": [
    "result = list(KB.query(\"maze(M), nth1(14, M, Row), nth1(23, Row, Cell)\"))\n",
    "if result:\n",
    "    cell_value = result[0][\"Cell\"]  # type: ignore\n",
    "    print(f\"Cell value: {cell_value}\")\n",
    "else:\n",
    "    print(\"Query result is empty.\")"
   ]
  },
  {
   "cell_type": "code",
   "execution_count": null,
   "metadata": {},
   "outputs": [],
   "source": [
    "list(KB.query(\"start(ROW,COL)\"))"
   ]
  },
  {
   "cell_type": "code",
   "execution_count": null,
   "metadata": {},
   "outputs": [],
   "source": [
    "list(KB.query(f\"is_valid(10,23)\"))"
   ]
  },
  {
   "cell_type": "code",
   "execution_count": null,
   "metadata": {},
   "outputs": [],
   "source": [
    "list(KB.query(f\"is_valid(9,23)\"))"
   ]
  },
  {
   "cell_type": "code",
   "execution_count": null,
   "metadata": {},
   "outputs": [],
   "source": [
    "solution = list(KB.query(f\"is_valid(14,23)\"))\n",
    "if solution:\n",
    "    print(\"Position is valid.\")\n",
    "else:\n",
    "    print(\"Position is not valid.\")"
   ]
  },
  {
   "cell_type": "code",
   "execution_count": null,
   "metadata": {},
   "outputs": [],
   "source": [
    "list(KB.query(f\"is_valid_action(11,23,0)\"))"
   ]
  },
  {
   "cell_type": "code",
   "execution_count": null,
   "metadata": {},
   "outputs": [],
   "source": [
    "list(KB.query(f\"is_valid_action(10,23,0)\"))"
   ]
  },
  {
   "cell_type": "markdown",
   "metadata": {},
   "source": [
    "# We have to decide if we want to generate a random path or random actions\n",
    "\n",
    "random path $\\Rightarrow$ a path of exactly n steps\n",
    "\n",
    "random actions $\\Rightarrow$ many action will be not valid $\\Rightarrow$ the path will be shorter OR, as is implemented now, with many repetition of the same position.\n",
    "\n",
    "# NOTE:\n",
    "minihack wont crash if we input a not valid action starting from a valid action. It will simply not execute the action (as if we are playing), hence we are updating the path position with the same position."
   ]
  },
  {
   "cell_type": "code",
   "execution_count": null,
   "metadata": {},
   "outputs": [],
   "source": [
    "actions = random_nactions(300)\n",
    "path = path_from_actions(game_map.layout, game_map.start, actions)\n",
    "i = Individual(actions, 0, game_map)"
   ]
  },
  {
   "cell_type": "code",
   "execution_count": null,
   "metadata": {},
   "outputs": [],
   "source": [
    "# create first generation\n",
    "MAX_GENERATIONS = 500\n",
    "MAX_INDIVIDUALS = 8\n",
    "EXPERIMENTS = 100"
   ]
  },
  {
   "cell_type": "code",
   "execution_count": null,
   "metadata": {},
   "outputs": [],
   "source": [
    "# create first generation\n",
    "MAX_GENERATIONS = 600\n",
    "MAX_INDIVIDUALS = 24\n",
    "\n",
    "best_individuals = []\n",
    "\n",
    "print(\"> Creating initial population...\")\n",
    "individuals = [\n",
    "    Individual(random_nactions(300), 1, game_map) for _ in range(MAX_INDIVIDUALS)\n",
    "]\n",
    "individuals.sort(key=lambda x: x.fitness, reverse=True)\n",
    "print(\"> Evolving...\")\n",
    "\n",
    "with tqdm(total=MAX_GENERATIONS, colour='#9244c9', ncols=150) as pbar:\n",
    "    for generation in range(MAX_GENERATIONS):\n",
    "        best_fitness = individuals[0].fitness\n",
    "        best_individuals.append(individuals[0])\n",
    "        if generation % 25 == -1:\n",
    "            print(\n",
    "                format_loop.format(\n",
    "                    generation,\n",
    "                    best_fitness,\n",
    "                    individuals[0].wrong_actions,\n",
    "                    individuals[0].loops,\n",
    "                    individuals[0].dead_ends,\n",
    "                    individuals[0].distance,\n",
    "                )\n",
    "            )\n",
    "\n",
    "        # take 2 best individuals -> maybe can be replaced with probability distribution based on fitness\n",
    "        # also roulette wheel selection.\n",
    "        p1, p2 = individuals[0], individuals[1]\n",
    "        errors = p1.error_vector + p2.error_vector\n",
    "\n",
    "        offspring = [\n",
    "            softmax_mutate(\n",
    "                crossover(p1.actions, p2.actions), errors, generation=generation\n",
    "            )\n",
    "            for _ in range(MAX_INDIVIDUALS)\n",
    "        ]\n",
    "\n",
    "        individuals[2:] = [\n",
    "            Individual(offspring[i], generation + 1, game_map)\n",
    "            for i in range(MAX_INDIVIDUALS - 2)\n",
    "        ]\n",
    "        individuals.sort(key=lambda x: x.fitness, reverse=True)\n",
    "\n",
    "        if individuals[0].fitness == 0:\n",
    "            print(\n",
    "                f\"> best individual in generation {generation}: {individuals[0].fitness}, wrong actions: {individuals[0].wrong_actions}\"\n",
    "            )\n",
    "            break\n",
    "\n",
    "        pbar.set_postfix(\n",
    "            best_fitness=best_fitness, \n",
    "            distance=individuals[0].distance, \n",
    "            dead_ends=individuals[0].dead_ends, \n",
    "            loops=individuals[0].loops, \n",
    "            wrong_actions=individuals[0].wrong_actions,\n",
    "            refresh=False\n",
    "        )\n",
    "        \n",
    "        pbar.update(1)\n",
    "\n",
    "best_fitness = individuals[0].fitness\n",
    "best_individuals.append(individuals[0])"
   ]
  },
  {
   "cell_type": "code",
   "execution_count": null,
   "metadata": {},
   "outputs": [],
   "source": [
    "# Plot for each generation the best fitness\n",
    "best_fitness = [best_individuals[i].fitness for i in range(len(best_individuals))]\n",
    "plt.plot(best_fitness)"
   ]
  },
  {
   "cell_type": "code",
   "execution_count": null,
   "metadata": {},
   "outputs": [],
   "source": [
    "env.reset()\n",
    "plt.rcParams[\"figure.figsize\"] = [18, 7]\n",
    "\n",
    "image = plt.imshow(game[:, 300:900])\n",
    "# for generation, path in enumerate(best_paths):\n",
    "# plt.title(f\"Generation {generation}, fitness: {best_scores[generation]:.2f}, last move: {path[-1]}\")\n",
    "# start = best_paths[0]\n",
    "# path = best_paths[-1]\n",
    "actions = []\n",
    "actions = individuals[0].actions\n",
    "wrong = 0\n",
    "\n",
    "for i, action in enumerate(actions):\n",
    "    try:\n",
    "        s, _, _, _ = env.step(action)\n",
    "        display.display(plt.gcf())\n",
    "        display.clear_output(wait=True)\n",
    "        plt.title(\n",
    "            format_title.format(\n",
    "                individuals[0].generation,\n",
    "                individuals[0].fitness,\n",
    "                individuals[0].path[i],\n",
    "                action,\n",
    "                wrong,\n",
    "                individuals[0].loops,\n",
    "                individuals[0].dead_ends,\n",
    "                i + 1,\n",
    "                len(actions),\n",
    "            )\n",
    "        )\n",
    "        image.set_data(s[\"pixel\"][:, 300:900])\n",
    "        # time.sleep(0.1)\n",
    "        if individuals[0].path[i] == game_map.target:\n",
    "            print(\"YOU WON! <3\")\n",
    "            break\n",
    "        if individuals[0].path[i] == individuals[0].path[i - 1]:\n",
    "            wrong += 1\n",
    "    except RuntimeError:\n",
    "        print(\"YOU WON! <3\")"
   ]
  }
 ],
 "metadata": {
  "kernelspec": {
   "display_name": ".venv",
   "language": "python",
   "name": "python3"
  },
  "language_info": {
   "codemirror_mode": {
    "name": "ipython",
    "version": 3
   },
   "file_extension": ".py",
   "mimetype": "text/x-python",
   "name": "python",
   "nbconvert_exporter": "python",
   "pygments_lexer": "ipython3",
   "version": "3.10.11"
  }
 },
 "nbformat": 4,
 "nbformat_minor": 2
}
